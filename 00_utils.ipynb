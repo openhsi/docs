{
 "cells": [
  {
   "cell_type": "code",
   "execution_count": 1,
   "metadata": {},
   "outputs": [],
   "source": [
    "# default_exp utils"
   ]
  },
  {
   "cell_type": "markdown",
   "metadata": {},
   "source": [
    "# Utils\n",
    "\n",
    "> Utility functions"
   ]
  },
  {
   "cell_type": "code",
   "execution_count": 2,
   "metadata": {},
   "outputs": [],
   "source": [
    "#hide\n",
    "\n",
    "# documentation extraction for class methods\n",
    "from nbdev.showdoc import *\n",
    "\n",
    "# unit tests using test_eq(...)\n",
    "from fastcore.test import *\n",
    "\n",
    "# monkey patching class methods using @patch\n",
    "from fastcore.foundation import *\n",
    "from fastcore.foundation import patch\n",
    "\n",
    "# imitation of Julia's multiple dispatch using @typedispatch\n",
    "from fastcore.dispatch import typedispatch"
   ]
  },
  {
   "cell_type": "code",
   "execution_count": 3,
   "metadata": {},
   "outputs": [],
   "source": [
    "#export\n",
    "import json\n",
    "import numpy as np\n",
    "import matplotlib.pyplot as plt\n",
    "\n"
   ]
  },
  {
   "cell_type": "code",
   "execution_count": null,
   "metadata": {},
   "outputs": [],
   "source": []
  },
  {
   "cell_type": "markdown",
   "metadata": {},
   "source": [
    "## Storing/Loading Settings\n",
    "Sensor calibration settings are stored in a dictionary. "
   ]
  },
  {
   "cell_type": "code",
   "execution_count": 13,
   "metadata": {},
   "outputs": [],
   "source": [
    "openhsi_settings = {\n",
    "    \"version\":1,\n",
    "    \"smile_cor\":\"wave_cal.pkl\",\n",
    "    \"row_slice\":(0,-1), # start and end rows to crop\n",
    "    \"col_slice\":(0,-1), # ditto for cols\n",
    "}\n",
    "\n",
    "with open('calibration_files/settings.txt', 'w') as outfile:\n",
    "    json.dump(openhsi_settings, outfile)\n",
    "    \n",
    "with open('calibration_files/settings.txt') as json_file:\n",
    "    openhsi_settings = json.load(json_file)"
   ]
  },
  {
   "cell_type": "code",
   "execution_count": 12,
   "metadata": {},
   "outputs": [
    {
     "data": {
      "text/plain": [
       "array([0., 0., 0., 0., 0.])"
      ]
     },
     "execution_count": 12,
     "metadata": {},
     "output_type": "execute_result"
    }
   ],
   "source": []
  },
  {
   "cell_type": "markdown",
   "metadata": {},
   "source": [
    "## Abstration for Writing Hyperspectral Lines to a Buffer\n",
    "\n",
    "The buffer updates the array write position automatically"
   ]
  },
  {
   "cell_type": "code",
   "execution_count": 4,
   "metadata": {},
   "outputs": [],
   "source": [
    "#export\n",
    "\n",
    "class CircArrayBuffer():\n",
    "    \"\"\"Circular Buffer implementation on ndarrays. Each push is a (n-1)darray. \n",
    "    The insert axis can be specified and modified after initialisation using `update_axis`.\"\"\"\n",
    "    \n",
    "    def __init__(self,size:tuple=(100,100),axis:int=0,dtype=np.uint16,show_func=None):\n",
    "        \"\"\"initialise array and write pointer\"\"\"\n",
    "        self.data = np.zeros(size,dtype=dtype)\n",
    "        self.size = size\n",
    "        self.axis = axis\n",
    "        self.write_pos = [slice(None,None,None) if i != axis else 0 for i in range(len(size)) ]\n",
    "        self.show_func = show_func\n",
    "        \n",
    "    def __getitem__(self,key):\n",
    "        return self.data[key]\n",
    "\n",
    "@patch\n",
    "def update_axis(self:CircArrayBuffer, axis, write_pos=0):\n",
    "    \"\"\"changes the write axis in array\"\"\"\n",
    "    self.axis = axis\n",
    "    self.write_pos = [slice(None,None,None) if i != axis else write_pos for i in range(len(self.size)) ]\n",
    "\n",
    "@patch\n",
    "def push(self:CircArrayBuffer,line):\n",
    "    \"\"\"writes a (n-1)darray into the ndarray\"\"\"\n",
    "    self.data[tuple(self.write_pos)] = line\n",
    "\n",
    "    self.write_pos[self.axis] += 1\n",
    "    if self.write_pos[self.axis] == self.size[self.axis]:\n",
    "        self.write_pos[self.axis] = 0\n",
    "        # write data to file\n",
    "\n",
    "@patch\n",
    "def show(self:CircArrayBuffer):\n",
    "    \"\"\"Display the data\"\"\"\n",
    "    if self.show_func is None:\n",
    "        if len(self.size) == 2:\n",
    "            plt.imshow(self.data,cmap='gray')\n",
    "            plt.show()\n",
    "        elif len(self.size) == 3:\n",
    "            plt.imshow(np.sum(self.data,axis=-1),cmap='gray')\n",
    "            plt.show()\n",
    "        elif len(self.size) == 1:\n",
    "            print(f\"#({self.size[0]}) {self.data}\")\n",
    "    elif self.show_func is not None:\n",
    "        self.show_func(self.data)\n",
    "    else:\n",
    "        print(\"Unsupported array shape. Please use 2D or 3D shapes or use your own custom show function\")\n",
    "\n",
    "@patch\n",
    "def dump(self:CircArrayBuffer,fname:str):\n",
    "    if \".nc\" in fname:\n",
    "        pass\n",
    "    else:\n",
    "        with open(fname,'wb') as handle:\n",
    "            pickle.dump(self.data,handle)\n",
    "\n",
    "@patch\n",
    "def load(self:CircArrayBuffer,fname:str):\n",
    "    if \".nc\" in fname:\n",
    "        pass\n",
    "    else:\n",
    "        with open(fname,'rb') as handle:\n",
    "            self.data = pickle.load(handle)\n",
    "    self.size = np.shape(self.data)\n",
    "    self.write_pos = [slice(None,None,None) if i != axis else 0 for i in range(len(size)) ]\n",
    "\n"
   ]
  },
  {
   "cell_type": "markdown",
   "metadata": {},
   "source": [
    "For example, we can write to a 1D array"
   ]
  },
  {
   "cell_type": "code",
   "execution_count": 5,
   "metadata": {},
   "outputs": [
    {
     "name": "stdout",
     "output_type": "stream",
     "text": [
      "#(7) [0 0 0 0 0 0 0]\n",
      "#(7) [0 1 0 0 0 0 0]\n",
      "#(7) [0 1 2 0 0 0 0]\n",
      "#(7) [0 1 2 3 0 0 0]\n",
      "#(7) [0 1 2 3 4 0 0]\n",
      "#(7) [0 1 2 3 4 5 0]\n",
      "#(7) [0 1 2 3 4 5 6]\n",
      "#(7) [7 1 2 3 4 5 6]\n",
      "#(7) [7 8 2 3 4 5 6]\n"
     ]
    }
   ],
   "source": [
    "cib = CircArrayBuffer(size=(7,),axis=0)\n",
    "for i in range(9):\n",
    "    cib.push(i)\n",
    "    cib.show()"
   ]
  },
  {
   "cell_type": "markdown",
   "metadata": {},
   "source": [
    "Or a 2D array and even update the write axis midway through."
   ]
  },
  {
   "cell_type": "code",
   "execution_count": 6,
   "metadata": {},
   "outputs": [
    {
     "data": {
      "image/png": "[encoded data removed]",
      "text/plain": [
       "<matplotlib.figure.Figure at 0x7f800bfe48>"
      ]
     },
     "metadata": {},
     "output_type": "display_data"
    },
    {
     "data": {
      "image/png": "[encoded data removed]",
      "text/plain": [
       "<matplotlib.figure.Figure at 0x7f7f064198>"
      ]
     },
     "metadata": {},
     "output_type": "display_data"
    },
    {
     "data": {
      "image/png": "[encoded data removed]",
      "text/plain": [
       "<matplotlib.figure.Figure at 0x7f7efd0cf8>"
      ]
     },
     "metadata": {},
     "output_type": "display_data"
    },
    {
     "data": {
      "image/png": "[encoded data removed]",
      "text/plain": [
       "<matplotlib.figure.Figure at 0x7f7ef30c50>"
      ]
     },
     "metadata": {},
     "output_type": "display_data"
    },
    {
     "data": {
      "image/png": "[encoded data removed]",
      "text/plain": [
       "<matplotlib.figure.Figure at 0x7f7ef0c470>"
      ]
     },
     "metadata": {},
     "output_type": "display_data"
    },
    {
     "data": {
      "image/png": "[encoded data removed]",
      "text/plain": [
       "<matplotlib.figure.Figure at 0x7f7eee4eb8>"
      ]
     },
     "metadata": {},
     "output_type": "display_data"
    },
    {
     "data": {
      "image/png": "[encoded data removed]",
      "text/plain": [
       "<matplotlib.figure.Figure at 0x7f7ee43da0>"
      ]
     },
     "metadata": {},
     "output_type": "display_data"
    }
   ],
   "source": [
    "cib = CircArrayBuffer(size=(4,4),axis=0)\n",
    "for i in range(7):\n",
    "    cib.push(i+1) # scalars are broadcasted to a 1D array\n",
    "    cib.show()\n",
    "    \n",
    "    if i == 2:\n",
    "        cib.update_axis(1,write_pos=2)"
   ]
  },
  {
   "cell_type": "markdown",
   "metadata": {},
   "source": [
    "## Smile Correction\n",
    "\n",
    "\n"
   ]
  },
  {
   "cell_type": "code",
   "execution_count": 7,
   "metadata": {},
   "outputs": [
    {
     "data": {
      "image/png": "[encoded data removed]",
      "text/plain": [
       "<matplotlib.figure.Figure at 0x7f800c4b70>"
      ]
     },
     "metadata": {},
     "output_type": "display_data"
    }
   ],
   "source": [
    "shifts = np.random.randint(0,4,10)\n",
    "\n",
    "cib = CircArrayBuffer(size=(10,10),axis=1)\n",
    "for i in range(10):\n",
    "    cib.push(np.random.randint(10))\n",
    "\n",
    "class Shifter():\n",
    "    def __init__(self,shifts,line_len,dtype=np.uint16):\n",
    "        self.shifts   = shifts\n",
    "        self.line_len = line_len\n",
    "        self.data = np.zeros((len(shifts),line_len),dtype=dtype)\n",
    "    \n",
    "    def __call__(self,line):\n",
    "        \n",
    "        for i in range(len(self.shifts)):\n",
    "            self.data[i,...] = line[i,self.shifts[i]:self.shifts[i]+self.line_len]\n",
    "        \n",
    "        return self.data\n",
    "    \n",
    "st = Shifter(shifts,6)\n",
    "\n",
    "cib.show()"
   ]
  },
  {
   "cell_type": "code",
   "execution_count": 8,
   "metadata": {},
   "outputs": [
    {
     "data": {
      "image/png": "[encoded data removed]",
      "text/plain": [
       "<matplotlib.figure.Figure at 0x7f7ee0a2b0>"
      ]
     },
     "metadata": {},
     "output_type": "display_data"
    }
   ],
   "source": [
    "cib2 = CircArrayBuffer(size=(10,10),axis=1)\n",
    "for i in range(10):\n",
    "    cib2.push(np.random.randint(10))\n",
    "cib2.show()"
   ]
  },
  {
   "cell_type": "code",
   "execution_count": 9,
   "metadata": {},
   "outputs": [
    {
     "name": "stdout",
     "output_type": "stream",
     "text": [
      "[0 3 0 3 1 0 2 1 0 3]\n"
     ]
    }
   ],
   "source": [
    "print(st.shifts)"
   ]
  },
  {
   "cell_type": "code",
   "execution_count": 10,
   "metadata": {},
   "outputs": [
    {
     "data": {
      "text/plain": [
       "array([[8, 1, 0, 8, 3, 8],\n",
       "       [8, 3, 8, 2, 1, 3],\n",
       "       [8, 1, 0, 8, 3, 8],\n",
       "       [8, 3, 8, 2, 1, 3],\n",
       "       [1, 0, 8, 3, 8, 2],\n",
       "       [8, 1, 0, 8, 3, 8],\n",
       "       [0, 8, 3, 8, 2, 1],\n",
       "       [1, 0, 8, 3, 8, 2],\n",
       "       [8, 1, 0, 8, 3, 8],\n",
       "       [8, 3, 8, 2, 1, 3]], dtype=uint16)"
      ]
     },
     "execution_count": 10,
     "metadata": {},
     "output_type": "execute_result"
    }
   ],
   "source": [
    "st(cib2.data)"
   ]
  },
  {
   "cell_type": "code",
   "execution_count": null,
   "metadata": {},
   "outputs": [],
   "source": []
  },
  {
   "cell_type": "code",
   "execution_count": null,
   "metadata": {},
   "outputs": [],
   "source": []
  }
 ],
 "metadata": {
  "kernelspec": {
   "display_name": "Python 3",
   "language": "python",
   "name": "python3"
  },
  "language_info": {
   "codemirror_mode": {
    "name": "ipython",
    "version": 3
   },
   "file_extension": ".py",
   "mimetype": "text/x-python",
   "name": "python",
   "nbconvert_exporter": "python",
   "pygments_lexer": "ipython3",
   "version": "3.6.9"
  }
 },
 "nbformat": 4,
 "nbformat_minor": 4
}
