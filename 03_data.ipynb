{
 "cells": [
  {
   "cell_type": "code",
   "execution_count": null,
   "metadata": {},
   "outputs": [],
   "source": [
    "# default_exp data"
   ]
  },
  {
   "cell_type": "markdown",
   "metadata": {},
   "source": [
    "# Data\n",
    "\n",
    "> Save files into the desired file format. "
   ]
  },
  {
   "cell_type": "code",
   "execution_count": 1,
   "metadata": {},
   "outputs": [],
   "source": [
    "#hide\n",
    "from nbdev.showdoc import *"
   ]
  },
  {
   "cell_type": "code",
   "execution_count": 2,
   "metadata": {},
   "outputs": [],
   "source": [
    "#export\n",
    "import h5py\n",
    "from netCDF4 import Dataset"
   ]
  },
  {
   "cell_type": "code",
   "execution_count": 3,
   "metadata": {},
   "outputs": [],
   "source": [
    "#export\n",
    "def save(data, fname:str = 'cal_files/fname', format:str = 'nc'):\n",
    "    \"\"\"Could move to the capture module as a class method instead\"\"\"\n",
    "    with h5py.File(fname, \"w\") as f:\n",
    "        dset = f.create_dataset(\"file\")\n",
    "        dset[...] = data"
   ]
  },
  {
   "cell_type": "markdown",
   "metadata": {},
   "source": [
    "**Perhaps this module should be integrated into the Trigger and Capture module rather than be separate...**"
   ]
  },
  {
   "cell_type": "code",
   "execution_count": 4,
   "metadata": {},
   "outputs": [
    {
     "name": "stdout",
     "output_type": "stream",
     "text": [
      "netcdf tmax.2013010120130101.grid {\n",
      "dimensions:\n",
      "\ttime = 1 ;\n",
      "\tlatitude = 691 ;\n",
      "\tlongitude = 886 ;\n",
      "variables:\n",
      "\tint time(time) ;\n",
      "\t\ttime:units = \"days since 1900-01-01 00:00:00.0\" ;\n",
      "\t\ttime:calendar = \"gregorian\" ;\n",
      "\t\ttime:long_name = \"time\" ;\n",
      "\t\ttime:standard_name = \"time\" ;\n",
      "\tfloat latitude(latitude) ;\n",
      "\t\tlatitude:units = \"degrees_north\" ;\n",
      "\t\tlatitude:long_name = \"latitude\" ;\n",
      "\t\tlatitude:standard_name = \"latitude\" ;\n",
      "\tfloat longitude(longitude) ;\n",
      "\t\tlongitude:units = \"degrees_east\" ;\n",
      "\t\tlongitude:long_name = \"longitude\" ;\n",
      "\t\tlongitude:standard_name = \"longitude\" ;\n",
      "\tfloat temp_max_day(time, latitude, longitude) ;\n",
      "\t\ttemp_max_day:_FillValue = -999.f ;\n",
      "\t\ttemp_max_day:units = \"degC\" ;\n",
      "\t\ttemp_max_day:long_name = \"Daily maximum air temperature\" ;\n",
      "\t\ttemp_max_day:standard_name = \"air_temperature\" ;\n",
      "\t\ttemp_max_day:source = \"Interpolated surface observations\" ;\n",
      "\n",
      "// global attributes:\n",
      "\t\t:acknowledgment = \"The Australian Feberal Government, The Burearu of Meteorology, The Australian Water Availability Project, The AusCover Project\" ;\n",
      "\t\t:license = \"Copyright for any data supplied by the Bureau of Meteorology is held in the Commonwealth of Australia and the purchaser shall give acknowledgement of the source in reference to the data. Apart from dealings under the Copyright Act 1968, the purchaser shall not reproduce (electronically or otherwise), modify or supply (by sale or otherwise) these data without written permission from the supplier.\" ;\n",
      "\t\t:title = \"Interpolated Thermometer Maximum Air Temperature 1-Day Australia 5km Gridded\" ;\n",
      "\t\t:keywords_vocabulary = \"GCMD Science Keywords, Version 6.0.0.0.0\" ;\n",
      "\t\t:standard_name_vocabulary = \"\\\"CF Standard Names, v16\\\"\" ;\n",
      "\t\t:institution = \"NCC Information Officer, Bureau of Meteorology (BoM),\\n\",\n",
      "\t\t\t\"700 Collins St, Melbourne, Australia\" ;\n",
      "\t\t:summary = \"Temperatures are measured directly at about 750 sites across the country, and stored in the climate database maintained by the National Climate Centre. These station data are then analysed onto 0.25x0.25 and 0.05x0.05 degree grids. The data here are 0.05x0.05 degree gridded. A sophisticated analysis technique described in Jones et al. (2009) is used to correct for baises in the data resulting in gridded data that represents an approximately square area with sides of about 5 kilometres (0.05 degrees) resolution covering Australia. Maximum temperature for the previous 24 hours is nominally recorded at 9 am local clock time. Maximum temperature is recorded against the previous day.\" ;\n",
      "\t\t:cdm_data_type = \"Grid\" ;\n",
      "\t\t:references = \"http://www.bom.gov.au/climate\\n\",\n",
      "\t\t\t\"http://www.bom.gov.au/amm/docs/2009/jones_hres.pdf\\n\",\n",
      "\t\t\t\"http://www.csiro.au/awap\\n\",\n",
      "\t\t\t\"http://www.cawcr.gov.au/publications/technicalreports/CTR_013.pdf\" ;\n",
      "\t\t:keywords = \"Atmosphere, Atmospheric Temperature, Surface Air Temperature\" ;\n",
      "\t\t:copyright = \"(C) Copyright Commonwealth of Australia 2013, Bureau of Meteorology (ABN 92637 533532), see http://www.bom.gov.au/other/copyright.shtml for terms and conditions of reuse.\" ;\n",
      "\t\t:Conventions = \"CF-1.5\" ;\n",
      "\t\t:id = \"climate\" ;\n",
      "\t\t:naming_authority = \"au.gov.bom\" ;\n",
      "\t\t:history = \"BUREAU OF METEOROLOGY                                                           [HEADER]                                                                        MAX TEMP    ANALYSIS:       2013010120130101                                    LENGTH SCALE FOR ANALYSIS              250.0                                    LATITUDE - LONGITUDE GRID                                                       ROW NUMBER AT SOUTHWEST CORNER             1                                    COLUMN NUMBER AT SOUTHWEST CORNER          1                                    ROW CHANGES WITH LONGITUDE                                                      NUMBER OF LONGITUDES IN GRID             886                                    NUMBER OF LATITUDES  IN GRID             691                                    SOUTHWEST LONGITUDE                    112.000                                  SOUTHWEST LATITUDE                      44.500                                  GRID INCREMENT OF LONGITUDE             0.050                                   GRID INCREMENT OF LATITUDE              0.050                                   NUMBER OF STATIONS REPORTING             694                                    ANALYSIS VERSION NUMBER                 3.51                                    [ANALYSIS TIME 2013-04-01 05:16:30 UTC]                                         [$]                                                                             \" ;\n",
      "}\n"
     ]
    }
   ],
   "source": [
    "!ncdump -h ~/Downloads/tmax.2013010120130101.grid.nc "
   ]
  },
  {
   "cell_type": "code",
   "execution_count": 3,
   "metadata": {},
   "outputs": [
    {
     "name": "stdout",
     "output_type": "stream",
     "text": [
      "netcdf test {\n",
      "dimensions:\n",
      "\ttime = UNLIMITED ; // (0 currently)\n",
      "\tlevel = UNLIMITED ; // (0 currently)\n",
      "\tlat = 73 ;\n",
      "\tlon = 144 ;\n",
      "variables:\n",
      "\tdouble time(time) ;\n",
      "\tint levelz(level) ;\n",
      "\tfloat lat(lat) ;\n",
      "\tfloat lon(lon) ;\n",
      "\tfloat temp(time, level, lat, lon) ;\n",
      "\t\ttemp:units = \"K\" ;\n",
      "\n",
      "group: forecasts {\n",
      "  } // group forecasts\n",
      "\n",
      "group: analyses {\n",
      "  } // group analyses\n",
      "}\n"
     ]
    }
   ],
   "source": [
    "!ncdump -h test.ncdf4"
   ]
  },
  {
   "cell_type": "code",
   "execution_count": 1,
   "metadata": {},
   "outputs": [],
   "source": [
    "import netCDF4"
   ]
  },
  {
   "cell_type": "code",
   "execution_count": 3,
   "metadata": {},
   "outputs": [
    {
     "data": {
      "text/plain": [
       "['CompoundType',\n",
       " 'Dataset',\n",
       " 'Dimension',\n",
       " 'EnumType',\n",
       " 'Group',\n",
       " 'MFDataset',\n",
       " 'MFTime',\n",
       " 'NC_DISKLESS',\n",
       " 'NC_PERSIST',\n",
       " 'VLType',\n",
       " 'Variable',\n",
       " '__all__',\n",
       " '__builtins__',\n",
       " '__cached__',\n",
       " '__doc__',\n",
       " '__file__',\n",
       " '__has_cdf5_format__',\n",
       " '__has_nc_create_mem__',\n",
       " '__has_nc_inq_format_extended__',\n",
       " '__has_nc_inq_path__',\n",
       " '__has_nc_open_mem__',\n",
       " '__has_parallel4_support__',\n",
       " '__has_pnetcdf_support__',\n",
       " '__has_rename_grp__',\n",
       " '__hdf5libversion__',\n",
       " '__loader__',\n",
       " '__name__',\n",
       " '__netcdf4libversion__',\n",
       " '__package__',\n",
       " '__path__',\n",
       " '__pdoc__',\n",
       " '__spec__',\n",
       " '__version__',\n",
       " '_netCDF4',\n",
       " 'buffer',\n",
       " 'chartostring',\n",
       " 'date2index',\n",
       " 'date2num',\n",
       " 'default_encoding',\n",
       " 'default_fillvals',\n",
       " 'get_chunk_cache',\n",
       " 'getlibversion',\n",
       " 'glob',\n",
       " 'is_native_big',\n",
       " 'is_native_little',\n",
       " 'ma',\n",
       " 'num2date',\n",
       " 'numpy',\n",
       " 'posixpath',\n",
       " 'python3',\n",
       " 'set_chunk_cache',\n",
       " 'stringtoarr',\n",
       " 'stringtochar',\n",
       " 'sys',\n",
       " 'unicode_error',\n",
       " 'utils',\n",
       " 'warnings',\n",
       " 'weakref']"
      ]
     },
     "execution_count": 3,
     "metadata": {},
     "output_type": "execute_result"
    }
   ],
   "source": [
    "dir(netCDF4)"
   ]
  },
  {
   "cell_type": "code",
   "execution_count": 32,
   "metadata": {},
   "outputs": [
    {
     "name": "stdout",
     "output_type": "stream",
     "text": [
      "NETCDF4\n",
      "_______________________________________________\n",
      "{'forecasts': <class 'netCDF4._netCDF4.Group'>\n",
      "group /forecasts:\n",
      "    dimensions(sizes): \n",
      "    variables(dimensions): \n",
      "    groups: , 'analyses': <class 'netCDF4._netCDF4.Group'>\n",
      "group /analyses:\n",
      "    dimensions(sizes): \n",
      "    variables(dimensions): \n",
      "    groups: }\n",
      "_______________________________________________\n",
      "{'time': <class 'netCDF4._netCDF4.Dimension'> (unlimited): name = 'time', size = 0, 'level': <class 'netCDF4._netCDF4.Dimension'> (unlimited): name = 'level', size = 0, 'lat': <class 'netCDF4._netCDF4.Dimension'>: name = 'lat', size = 73, 'lon': <class 'netCDF4._netCDF4.Dimension'>: name = 'lon', size = 144}\n",
      "_______________________________________________\n",
      "<class 'netCDF4._netCDF4.Dimension'> (unlimited): name = 'time', size = 0\n",
      "<class 'netCDF4._netCDF4.Dimension'> (unlimited): name = 'level', size = 0\n",
      "<class 'netCDF4._netCDF4.Dimension'>: name = 'lat', size = 73\n",
      "<class 'netCDF4._netCDF4.Dimension'>: name = 'lon', size = 144\n",
      "_______________________________________________\n",
      "<class 'netCDF4._netCDF4.Variable'>\n",
      "float32 temp(time, level, lat, lon)\n",
      "    units: K\n",
      "unlimited dimensions: time, level\n",
      "current shape = (0, 0, 73, 144)\n",
      "filling on, default _FillValue of 9.969209968386869e+36 used\n",
      "_______________________________________________\n",
      "{'time': <class 'netCDF4._netCDF4.Variable'>\n",
      "float64 time(time)\n",
      "unlimited dimensions: time\n",
      "current shape = (0,)\n",
      "filling on, default _FillValue of 9.969209968386869e+36 used, 'levelz': <class 'netCDF4._netCDF4.Variable'>\n",
      "int32 levelz(level)\n",
      "unlimited dimensions: level\n",
      "current shape = (0,)\n",
      "filling on, default _FillValue of -2147483647 used, 'lat': <class 'netCDF4._netCDF4.Variable'>\n",
      "float32 lat(lat)\n",
      "unlimited dimensions: \n",
      "current shape = (73,)\n",
      "filling on, default _FillValue of 9.969209968386869e+36 used, 'lon': <class 'netCDF4._netCDF4.Variable'>\n",
      "float32 lon(lon)\n",
      "unlimited dimensions: \n",
      "current shape = (144,)\n",
      "filling on, default _FillValue of 9.969209968386869e+36 used, 'temp': <class 'netCDF4._netCDF4.Variable'>\n",
      "float32 temp(time, level, lat, lon)\n",
      "    units: K\n",
      "unlimited dimensions: time, level\n",
      "current shape = (0, 0, 73, 144)\n",
      "filling on, default _FillValue of 9.969209968386869e+36 used}\n",
      "_______________________________________________\n"
     ]
    }
   ],
   "source": [
    "from netCDF4 import Dataset\n",
    "\n",
    "rootgrp = Dataset(\"test.nc\", \"w\", format=\"NETCDF4\")\n",
    "print(rootgrp.data_model)\n",
    "print('_______________________________________________')\n",
    "\n",
    "fcstgrp = rootgrp.createGroup(\"forecasts\")\n",
    "analgrp = rootgrp.createGroup(\"analyses\")\n",
    "print(rootgrp.groups)\n",
    "print('_______________________________________________')\n",
    "\n",
    "time = rootgrp.createDimension(\"time\", None)\n",
    "level = rootgrp.createDimension(\"level\", None)\n",
    "lat = rootgrp.createDimension(\"lat\", 73)\n",
    "lon = rootgrp.createDimension(\"lon\", 144)\n",
    "print(rootgrp.dimensions)\n",
    "print('_______________________________________________')\n",
    "\n",
    "for dimobj in rootgrp.dimensions.values():\n",
    "    print(dimobj)\n",
    "print('_______________________________________________')\n",
    "    \n",
    "    \n",
    "    \n",
    "    \n",
    "times = rootgrp.createVariable(\"time\",\"f8\",(\"time\",))\n",
    "levels = rootgrp.createVariable(\"levelz\",\"i4\",(\"level\",))\n",
    "latitudes = rootgrp.createVariable(\"lat\",\"f4\",(\"lat\",))\n",
    "longitudes = rootgrp.createVariable(\"lon\",\"f4\",(\"lon\",))\n",
    "\n",
    "temp = rootgrp.createVariable(\"temp\",\"f4\",(\"time\",\"level\",\"lat\",\"lon\",))\n",
    "temp.units = \"K\"\n",
    "print(temp)\n",
    "print('_______________________________________________')\n",
    "\n",
    "\n",
    "\n",
    "\n",
    "print(rootgrp.variables)\n",
    "print('_______________________________________________')\n",
    "\n",
    "\n",
    "rootgrp.close()"
   ]
  },
  {
   "cell_type": "code",
   "execution_count": null,
   "metadata": {},
   "outputs": [],
   "source": []
  },
  {
   "cell_type": "code",
   "execution_count": 31,
   "metadata": {},
   "outputs": [],
   "source": [
    "rootgrp.close()"
   ]
  },
  {
   "cell_type": "code",
   "execution_count": 1,
   "metadata": {},
   "outputs": [
    {
     "name": "stdout",
     "output_type": "stream",
     "text": [
      "/Users/eway/Desktop/openhsi\n"
     ]
    }
   ],
   "source": [
    "!pwd"
   ]
  },
  {
   "cell_type": "code",
   "execution_count": null,
   "metadata": {},
   "outputs": [],
   "source": [
    "class RawData(object):\n",
    "    \n",
    "    def __init__(self,fname::str=\"test.nc\"):\n",
    "        \n",
    "        self.fname = fname\n",
    "        self.rootgrp = Dataset(self.fname, \"w\", format=\"NETCDF4\")\n",
    "        \n",
    "        # GPS\n",
    "        self.time_stamp  = self.rootgrp.createDimension(\"time\", None)\n",
    "        self.time_stamps = self.rootgrp.createVariable(\"time\",\"f8\",(\"time\",))\n",
    "        self.time_stamps.units = \"s\"\n",
    "        self.latitude    = self.rootgrp.createDimension(\"lat\",None)\n",
    "        self.latitudes   = self.rootgrp.createVariable(\"lat\",\"f8\",(\"lat\",))\n",
    "        self.latitudes.units = \"deg\"\n",
    "        self.longitude   = self.rootgrp.createDimension(\"long\",None)\n",
    "        self.longitudes  = self.rootgrp.createVariable(\"long\",\"f8\",(\"long\",))\n",
    "        self.longitudes.units = \"deg\"\n",
    "        \n",
    "        # IMU\n",
    "        self.orientation = self.rootgrp.createDimension(\"orien\", None)\n",
    "        self.orientations = self.rootgrp.createVariable(\"orien\",\"f8\",(\"orien\",))\n",
    "        self.orientations.units = \"rad\"\n",
    "        self.velocity   = self.rootgrp.createDimension(\"vel\",None)\n",
    "        self.velocities = self.rootgrp.createVariable(\"vel\",\"f8\",(\"vel\",))\n",
    "        self.velocities.units = \"m/s\"\n",
    "        \n",
    "        # OpenHSI\n",
    "        self.hsi_frame  = self.rootgrp.createDimension(\"hsi_frame\", None)\n",
    "        self.hsi_frames = self.rootgrp.createVariable(\"hsi_frame\",\"f8\",(\"hsi_frame\",))\n",
    "        self.hsi_frames.units = \"reflectance\"\n",
    "        self.metadata   = self.rootgrp.createDimension(\"metadata\", None)\n",
    "        self.metadatas  = self.rootgrp.createVariable(\"metadata\",\"f8\",(\"metadata\",)) # xml file\n",
    "        \n",
    "        \"\"\" from Ian's code\n",
    "        # resolution?\n",
    "        # Set crs globally [alternative method!]\n",
    "        setattr(ncds, 'time_coverage_start', str(dt.date(1970,1,1)+relativedelta(seconds=timei[0])))\n",
    "        setattr(ncds, 'time_coverage_end', str(dt.date(1970,1,1)+relativedelta(seconds=timei[-1])))\n",
    "        setattr(ncds, 'DOI', \"To be added\")\n",
    "        setattr(ncds, 'id', metadata[2])\n",
    "        setattr(ncds, 'title', metadata[0])\n",
    "        setattr(ncds, 'citation', metadata[4])\n",
    "        setattr(ncds, 'references',metadata[5])\n",
    "        setattr(ncds, 'keywords', \"EARTH SCIENCE > ATMOSPHERE\")\n",
    "        setattr(ncds, 'summary', metadata[3])\n",
    "        setattr(ncds, 'publisher_name', \"The University of Sydney\")\n",
    "        setattr(ncds, 'acknowledgment', \"The creation of this data was funded by The University of Sydney.\")\n",
    "        setattr(ncds, 'source', 'ANUClimate_v2-0')\n",
    "        setattr(ncds, 'publisher_url', \"http://www.anuclimate.org.au\")\n",
    "        setattr(ncds, 'publisher_email', \"anuclimate@gmail.com\")\n",
    "        setattr(ncds, 'keywords_vocabulary', \"ANZSCR-FOR: http://www.abs.gov.au/ausstats/abs@.nsf/0/6BB427AB9696C225CA2574180004463E\")\n",
    "        setattr(ncds, 'metadata_link', \"http://geonetworkrr9.nci.org.au/geonetwork/srv/eng/catalog.search#/home\")\n",
    "        setattr(ncds, 'metadata_uuid', metadata[7])\n",
    "        setattr(ncds, 'creator_name', \"Michael Hutchinson, Jennifer Kesteven, Tingbao Xu, Ian Marang, Bradley Evans\")\n",
    "        setattr(ncds, 'creator_email', \"anuclimate@gmail.com\")\n",
    "        setattr(ncds, 'creator_url', \"http://anuclimate.org.au\")\n",
    "        setattr(ncds, 'institution', \"Australian National University\")\n",
    "        setattr(ncds, 'license', \"Copyright \"+str(dt.date.today().year)+\" ANU. Rights owned by The Australian National University (ANU). Rights licensed subject to Attribution Licence (CC BY 4.0)  https://creativecommons.org/licenses/by/4.0/legalcode\")\n",
    "        setattr(ncds, 'Conventions', \"ACDD-1.3\")\n",
    "        setattr(ncds, 'coverage_content_type', \"modelResult\")\n",
    "        setattr(ncds, 'cdm_data_type', \"grid\")\n",
    "        setattr(ncds, 'contact', \"Bradley Evans, Senior Lecturer, The University of Sydney, School of Life and Environmental Sciences, Building C81, 1 Central Avenue, Eveleigh, NSW, 2015, bradley.evans@sydney.edu.au, http://orcid.org/0000-0001-6675-3118\")\n",
    "        setattr(ncds, 'history', \"Reformatted to NetCDF: \"+dt.date.today().isoformat())\n",
    "        setattr(ncds, 'date_created', dt.date.today().isoformat())\n",
    "        # Close the file\n",
    "        print 'Congratulations, your netCDF file is baked! See:', outfile\n",
    "        ncds.close()\n",
    "        \"\"\"\n",
    "        \n",
    "    def __exit__(self):\n",
    "        self.rootgrp.close()\n",
    "        "
   ]
  }
 ],
 "metadata": {
  "kernelspec": {
   "display_name": "Python 3",
   "language": "python",
   "name": "python3"
  },
  "language_info": {
   "codemirror_mode": {
    "name": "ipython",
    "version": 3
   },
   "file_extension": ".py",
   "mimetype": "text/x-python",
   "name": "python",
   "nbconvert_exporter": "python",
   "pygments_lexer": "ipython3",
   "version": "3.6.9"
  }
 },
 "nbformat": 4,
 "nbformat_minor": 4
}
